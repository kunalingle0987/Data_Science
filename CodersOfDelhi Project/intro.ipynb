{
 "cells": [
  {
   "cell_type": "code",
   "execution_count": 41,
   "id": "9c687b71-f43c-4523-be8e-f75e20db1369",
   "metadata": {},
   "outputs": [],
   "source": [
    "import json\n",
    "\n",
    "def load_data(filename):\n",
    "    with open(filename,\"r\") as f:\n",
    "        data=json.load(f)\n",
    "    return data"
   ]
  },
  {
   "cell_type": "code",
   "execution_count": 43,
   "id": "a85ec0ad-83b8-467b-bd29-89b2db9b787b",
   "metadata": {},
   "outputs": [],
   "source": [
    "data=load_data(\"data.json\")"
   ]
  },
  {
   "cell_type": "code",
   "execution_count": 52,
   "id": "b135b5ad-a322-48ff-ac09-213cdce9adb2",
   "metadata": {},
   "outputs": [
    {
     "data": {
      "text/plain": [
       "{'users': [{'id': 1, 'name': 'Amit', 'friends': [2, 3], 'liked_pages': [101]},\n",
       "  {'id': 2, 'name': 'Priya', 'friends': [1, 4], 'liked_pages': [102]},\n",
       "  {'id': 3, 'name': 'Rahul', 'friends': [1], 'liked_pages': [101, 103]},\n",
       "  {'id': 4, 'name': 'Sara', 'friends': [2], 'liked_pages': [104]}],\n",
       " 'pages': [{'id': 101, 'name': 'Python Developers'},\n",
       "  {'id': 102, 'name': 'Data Science Enthusiasts'},\n",
       "  {'id': 103, 'name': 'AI & ML Community'},\n",
       "  {'id': 104, 'name': 'Web Dev Hub'}]}"
      ]
     },
     "execution_count": 52,
     "metadata": {},
     "output_type": "execute_result"
    }
   ],
   "source": [
    "data"
   ]
  },
  {
   "cell_type": "code",
   "execution_count": 70,
   "id": "8855c3e5-3a28-479e-a1f8-4a41b7a5505c",
   "metadata": {},
   "outputs": [
    {
     "name": "stdout",
     "output_type": "stream",
     "text": [
      "Users And their connections: \n",
      "Id: 1- Amit is friends with [2, 3] and like pages are [101]\n",
      "Id: 2- Priya is friends with [1, 4] and like pages are [102]\n",
      "Id: 3- Rahul is friends with [1] and like pages are [101, 103]\n",
      "Id: 4- Sara is friends with [2] and like pages are [104]\n",
      "\n",
      "pages information:\n",
      "101 -Python Developers\n",
      "102 -Data Science Enthusiasts\n",
      "103 -AI & ML Community\n",
      "104 -Web Dev Hub\n"
     ]
    }
   ],
   "source": [
    "def display_users(data):\n",
    "    print(\"Users And their connections: \")\n",
    "    for user in data['users']:\n",
    "        print(f\"Id: {user['id']}- {user['name']} is friends with {user['friends']} and like pages are {user['liked_pages']}\")\n",
    "       \n",
    "    print(\"\\npages information:\")\n",
    "    for page in data['pages']:\n",
    "        print(f\"{page['id']} -{page['name']}\")\n",
    "        \n",
    "display_users(data)"
   ]
  }
 ],
 "metadata": {
  "kernelspec": {
   "display_name": "Python [conda env:base] *",
   "language": "python",
   "name": "conda-base-py"
  },
  "language_info": {
   "codemirror_mode": {
    "name": "ipython",
    "version": 3
   },
   "file_extension": ".py",
   "mimetype": "text/x-python",
   "name": "python",
   "nbconvert_exporter": "python",
   "pygments_lexer": "ipython3",
   "version": "3.12.7"
  }
 },
 "nbformat": 4,
 "nbformat_minor": 5
}
