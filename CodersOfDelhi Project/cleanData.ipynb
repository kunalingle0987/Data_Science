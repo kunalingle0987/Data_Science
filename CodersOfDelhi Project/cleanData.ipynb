{
 "cells": [
  {
   "cell_type": "code",
   "execution_count": 7,
   "id": "f461f7c4-3ba2-4a5f-8774-5c41ddac7376",
   "metadata": {},
   "outputs": [
    {
     "name": "stdout",
     "output_type": "stream",
     "text": [
      "Data cleaned Successfully!\n"
     ]
    }
   ],
   "source": [
    "import json \n",
    "def clean_data(data):\n",
    "    \n",
    "    #RemoveUserWithMissingName\n",
    "    data['users']=[user for user in data['users'] if user['name'].strip()]\n",
    "\n",
    "    #removeDupliFriends\n",
    "    for user in data['users']:\n",
    "        user['friends']=list(set(user['friends']))\n",
    "    \n",
    "    #removeBlankId \n",
    "    data['users']=[user for user in data['users'] if user['friends'] and user['liked_pages']]\n",
    "\n",
    "    #removeDupliPages\n",
    "    unique_pages={}\n",
    "    for page in data['pages']:\n",
    "        unique_pages[page['id']]=page\n",
    "    data['pages']=list(unique_pages.values())\n",
    "    return data\n",
    "\n",
    "\n",
    "data=json.load(open('data2.json'))\n",
    "data=clean_data(data)\n",
    "json.dump(data,open(\"cleandata2.json\",\"w\"),indent=4)\n",
    "\n",
    "print(\"Data cleaned Successfully!\")\n",
    "\n"
   ]
  },
  {
   "cell_type": "code",
   "execution_count": 9,
   "id": "ac33e56a-fc19-4c29-a0f9-14378f5136b5",
   "metadata": {},
   "outputs": [
    {
     "data": {
      "text/plain": [
       "{'users': [{'id': 1, 'name': 'Amit', 'friends': [2, 3], 'liked_pages': [101]},\n",
       "  {'id': 2, 'name': 'Priya', 'friends': [1, 4], 'liked_pages': [102]},\n",
       "  {'id': 4, 'name': 'Sara', 'friends': [2], 'liked_pages': [104]}],\n",
       " 'pages': [{'id': 101, 'name': 'Python Developers'},\n",
       "  {'id': 102, 'name': 'Data Science Enthusiasts'},\n",
       "  {'id': 103, 'name': 'AI & ML Community'},\n",
       "  {'id': 104, 'name': 'Web Development'}]}"
      ]
     },
     "execution_count": 9,
     "metadata": {},
     "output_type": "execute_result"
    }
   ],
   "source": [
    "data\n"
   ]
  },
  {
   "cell_type": "code",
   "execution_count": 13,
   "id": "c9680d4b-58c9-4b89-b999-c9ef0d644130",
   "metadata": {},
   "outputs": [
    {
     "data": {
      "text/plain": [
       "dict"
      ]
     },
     "execution_count": 13,
     "metadata": {},
     "output_type": "execute_result"
    }
   ],
   "source": [
    "type(data)"
   ]
  }
 ],
 "metadata": {
  "kernelspec": {
   "display_name": "Python [conda env:base] *",
   "language": "python",
   "name": "conda-base-py"
  },
  "language_info": {
   "codemirror_mode": {
    "name": "ipython",
    "version": 3
   },
   "file_extension": ".py",
   "mimetype": "text/x-python",
   "name": "python",
   "nbconvert_exporter": "python",
   "pygments_lexer": "ipython3",
   "version": "3.12.7"
  }
 },
 "nbformat": 4,
 "nbformat_minor": 5
}
